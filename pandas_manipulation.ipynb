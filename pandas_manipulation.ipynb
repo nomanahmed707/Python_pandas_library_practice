{
 "cells": [
  {
   "cell_type": "code",
   "execution_count": 3,
   "id": "020d5fa9",
   "metadata": {},
   "outputs": [],
   "source": [
    "import pandas as pd\n",
    "students_data = pd.DataFrame()"
   ]
  },
  {
   "cell_type": "code",
   "execution_count": 6,
   "id": "9b6406cc",
   "metadata": {},
   "outputs": [],
   "source": [
    "students_data[\"Name\"] = [\"Nomi\", \"Ali\", \"Charlie\", \"David\"]\n",
    "students_data[\"Age\"] = [20, 21, 22, 23]\n",
    "students_data[\"Grade\"] = [\"A\", \"B\", \"C\", \"D\"]\n",
    "students_data[\"City\"] = [\"New York\", \"Los Angeles\", \"Chicago\", \"Houston\"]\n",
    "students_data[\"GPA\"] = [3.5, 3.0, 2.5, 2.0]\n",
    "students_data[\"student\"] = [False, True, False, True]\n"
   ]
  },
  {
   "cell_type": "code",
   "execution_count": 7,
   "id": "f0bf5e22",
   "metadata": {},
   "outputs": [
    {
     "data": {
      "text/html": [
       "<div>\n",
       "<style scoped>\n",
       "    .dataframe tbody tr th:only-of-type {\n",
       "        vertical-align: middle;\n",
       "    }\n",
       "\n",
       "    .dataframe tbody tr th {\n",
       "        vertical-align: top;\n",
       "    }\n",
       "\n",
       "    .dataframe thead th {\n",
       "        text-align: right;\n",
       "    }\n",
       "</style>\n",
       "<table border=\"1\" class=\"dataframe\">\n",
       "  <thead>\n",
       "    <tr style=\"text-align: right;\">\n",
       "      <th></th>\n",
       "      <th>Name</th>\n",
       "      <th>Age</th>\n",
       "      <th>Grade</th>\n",
       "      <th>City</th>\n",
       "      <th>GPA</th>\n",
       "      <th>student</th>\n",
       "    </tr>\n",
       "  </thead>\n",
       "  <tbody>\n",
       "    <tr>\n",
       "      <th>0</th>\n",
       "      <td>Nomi</td>\n",
       "      <td>20</td>\n",
       "      <td>A</td>\n",
       "      <td>New York</td>\n",
       "      <td>3.5</td>\n",
       "      <td>False</td>\n",
       "    </tr>\n",
       "    <tr>\n",
       "      <th>1</th>\n",
       "      <td>Ali</td>\n",
       "      <td>21</td>\n",
       "      <td>B</td>\n",
       "      <td>Los Angeles</td>\n",
       "      <td>3.0</td>\n",
       "      <td>True</td>\n",
       "    </tr>\n",
       "    <tr>\n",
       "      <th>2</th>\n",
       "      <td>Charlie</td>\n",
       "      <td>22</td>\n",
       "      <td>C</td>\n",
       "      <td>Chicago</td>\n",
       "      <td>2.5</td>\n",
       "      <td>False</td>\n",
       "    </tr>\n",
       "    <tr>\n",
       "      <th>3</th>\n",
       "      <td>David</td>\n",
       "      <td>23</td>\n",
       "      <td>D</td>\n",
       "      <td>Houston</td>\n",
       "      <td>2.0</td>\n",
       "      <td>True</td>\n",
       "    </tr>\n",
       "  </tbody>\n",
       "</table>\n",
       "</div>"
      ],
      "text/plain": [
       "      Name  Age Grade         City  GPA  student\n",
       "0     Nomi   20     A     New York  3.5    False\n",
       "1      Ali   21     B  Los Angeles  3.0     True\n",
       "2  Charlie   22     C      Chicago  2.5    False\n",
       "3    David   23     D      Houston  2.0     True"
      ]
     },
     "execution_count": 7,
     "metadata": {},
     "output_type": "execute_result"
    }
   ],
   "source": [
    "students_data"
   ]
  },
  {
   "cell_type": "code",
   "execution_count": 9,
   "id": "cd4a1603",
   "metadata": {},
   "outputs": [],
   "source": [
    "new_students_data = pd.Series([\"laiba\", 20, \"A\", \"Krachi\", 3.8, True], index=students_data.columns)"
   ]
  },
  {
   "cell_type": "code",
   "execution_count": 19,
   "id": "6c423a97",
   "metadata": {},
   "outputs": [],
   "source": [
    "students_data =pd.concat([students_data, new_students_data.to_frame().T], ignore_index=True)"
   ]
  },
  {
   "cell_type": "code",
   "execution_count": 20,
   "id": "26b123ce",
   "metadata": {},
   "outputs": [
    {
     "data": {
      "text/html": [
       "<div>\n",
       "<style scoped>\n",
       "    .dataframe tbody tr th:only-of-type {\n",
       "        vertical-align: middle;\n",
       "    }\n",
       "\n",
       "    .dataframe tbody tr th {\n",
       "        vertical-align: top;\n",
       "    }\n",
       "\n",
       "    .dataframe thead th {\n",
       "        text-align: right;\n",
       "    }\n",
       "</style>\n",
       "<table border=\"1\" class=\"dataframe\">\n",
       "  <thead>\n",
       "    <tr style=\"text-align: right;\">\n",
       "      <th></th>\n",
       "      <th>Name</th>\n",
       "      <th>Age</th>\n",
       "      <th>Grade</th>\n",
       "      <th>City</th>\n",
       "      <th>GPA</th>\n",
       "      <th>student</th>\n",
       "    </tr>\n",
       "  </thead>\n",
       "  <tbody>\n",
       "    <tr>\n",
       "      <th>0</th>\n",
       "      <td>Nomi</td>\n",
       "      <td>20</td>\n",
       "      <td>A</td>\n",
       "      <td>New York</td>\n",
       "      <td>3.5</td>\n",
       "      <td>False</td>\n",
       "    </tr>\n",
       "    <tr>\n",
       "      <th>1</th>\n",
       "      <td>Ali</td>\n",
       "      <td>21</td>\n",
       "      <td>B</td>\n",
       "      <td>Los Angeles</td>\n",
       "      <td>3.0</td>\n",
       "      <td>True</td>\n",
       "    </tr>\n",
       "    <tr>\n",
       "      <th>2</th>\n",
       "      <td>Charlie</td>\n",
       "      <td>22</td>\n",
       "      <td>C</td>\n",
       "      <td>Chicago</td>\n",
       "      <td>2.5</td>\n",
       "      <td>False</td>\n",
       "    </tr>\n",
       "    <tr>\n",
       "      <th>3</th>\n",
       "      <td>David</td>\n",
       "      <td>23</td>\n",
       "      <td>D</td>\n",
       "      <td>Houston</td>\n",
       "      <td>2.0</td>\n",
       "      <td>True</td>\n",
       "    </tr>\n",
       "    <tr>\n",
       "      <th>4</th>\n",
       "      <td>laiba</td>\n",
       "      <td>20</td>\n",
       "      <td>A</td>\n",
       "      <td>Krachi</td>\n",
       "      <td>3.8</td>\n",
       "      <td>True</td>\n",
       "    </tr>\n",
       "  </tbody>\n",
       "</table>\n",
       "</div>"
      ],
      "text/plain": [
       "      Name Age Grade         City  GPA student\n",
       "0     Nomi  20     A     New York  3.5   False\n",
       "1      Ali  21     B  Los Angeles  3.0    True\n",
       "2  Charlie  22     C      Chicago  2.5   False\n",
       "3    David  23     D      Houston  2.0    True\n",
       "4    laiba  20     A       Krachi  3.8    True"
      ]
     },
     "execution_count": 20,
     "metadata": {},
     "output_type": "execute_result"
    }
   ],
   "source": [
    "students_data"
   ]
  },
  {
   "cell_type": "code",
   "execution_count": 21,
   "id": "1e0138b6",
   "metadata": {},
   "outputs": [
    {
     "name": "stdout",
     "output_type": "stream",
     "text": [
      "(5, 6)\n"
     ]
    }
   ],
   "source": [
    "print(students_data.shape)"
   ]
  },
  {
   "cell_type": "code",
   "execution_count": 27,
   "id": "8d093dd2",
   "metadata": {},
   "outputs": [
    {
     "name": "stdout",
     "output_type": "stream",
     "text": [
      "<class 'pandas.core.frame.DataFrame'>\n",
      "RangeIndex: 5 entries, 0 to 4\n",
      "Data columns (total 6 columns):\n",
      " #   Column   Non-Null Count  Dtype \n",
      "---  ------   --------------  ----- \n",
      " 0   Name     5 non-null      object\n",
      " 1   Age      5 non-null      object\n",
      " 2   Grade    5 non-null      object\n",
      " 3   City     5 non-null      object\n",
      " 4   GPA      5 non-null      object\n",
      " 5   student  5 non-null      object\n",
      "dtypes: object(6)\n",
      "memory usage: 372.0+ bytes\n",
      "None\n"
     ]
    }
   ],
   "source": [
    "print(students_data.info())"
   ]
  },
  {
   "cell_type": "code",
   "execution_count": 34,
   "id": "d5a0430c",
   "metadata": {},
   "outputs": [
    {
     "name": "stdout",
     "output_type": "stream",
     "text": [
      "count      5\n",
      "unique     4\n",
      "top       20\n",
      "freq       2\n",
      "Name: Age, dtype: int64\n"
     ]
    }
   ],
   "source": [
    "print(students_data[\"Age\"].describe())"
   ]
  },
  {
   "cell_type": "code",
   "execution_count": 35,
   "id": "09171dd3",
   "metadata": {},
   "outputs": [
    {
     "name": "stdout",
     "output_type": "stream",
     "text": [
      "21.2\n"
     ]
    }
   ],
   "source": [
    "print(students_data[\"Age\"].mean())"
   ]
  },
  {
   "cell_type": "code",
   "execution_count": 36,
   "id": "bd3f6679",
   "metadata": {},
   "outputs": [
    {
     "name": "stdout",
     "output_type": "stream",
     "text": [
      "0    20\n",
      "Name: Age, dtype: object\n"
     ]
    }
   ],
   "source": [
    "print(students_data[\"Age\"].mode())"
   ]
  },
  {
   "cell_type": "code",
   "execution_count": 37,
   "id": "3442651c",
   "metadata": {},
   "outputs": [
    {
     "name": "stdout",
     "output_type": "stream",
     "text": [
      "1.3038404810405297\n"
     ]
    }
   ],
   "source": [
    "print(students_data[\"Age\"].std())"
   ]
  },
  {
   "cell_type": "code",
   "execution_count": 38,
   "id": "67245ce2",
   "metadata": {},
   "outputs": [
    {
     "name": "stdout",
     "output_type": "stream",
     "text": [
      "20\n"
     ]
    }
   ],
   "source": [
    "print(students_data[\"Age\"].min())"
   ]
  },
  {
   "cell_type": "code",
   "execution_count": 39,
   "id": "2e934d2a",
   "metadata": {},
   "outputs": [
    {
     "name": "stdout",
     "output_type": "stream",
     "text": [
      "23\n"
     ]
    }
   ],
   "source": [
    "print(students_data[\"Age\"].max())"
   ]
  },
  {
   "cell_type": "code",
   "execution_count": 40,
   "id": "f6b0c440",
   "metadata": {},
   "outputs": [
    {
     "name": "stdout",
     "output_type": "stream",
     "text": [
      "5\n"
     ]
    }
   ],
   "source": [
    "print(students_data[\"Age\"].count())"
   ]
  },
  {
   "cell_type": "code",
   "execution_count": 41,
   "id": "f3a39301",
   "metadata": {},
   "outputs": [],
   "source": [
    "students_data = students_data.drop(columns=[\"student\"])"
   ]
  },
  {
   "cell_type": "code",
   "execution_count": 42,
   "id": "31c7b90b",
   "metadata": {},
   "outputs": [
    {
     "data": {
      "text/html": [
       "<div>\n",
       "<style scoped>\n",
       "    .dataframe tbody tr th:only-of-type {\n",
       "        vertical-align: middle;\n",
       "    }\n",
       "\n",
       "    .dataframe tbody tr th {\n",
       "        vertical-align: top;\n",
       "    }\n",
       "\n",
       "    .dataframe thead th {\n",
       "        text-align: right;\n",
       "    }\n",
       "</style>\n",
       "<table border=\"1\" class=\"dataframe\">\n",
       "  <thead>\n",
       "    <tr style=\"text-align: right;\">\n",
       "      <th></th>\n",
       "      <th>Name</th>\n",
       "      <th>Age</th>\n",
       "      <th>Grade</th>\n",
       "      <th>City</th>\n",
       "      <th>GPA</th>\n",
       "    </tr>\n",
       "  </thead>\n",
       "  <tbody>\n",
       "    <tr>\n",
       "      <th>0</th>\n",
       "      <td>Nomi</td>\n",
       "      <td>20</td>\n",
       "      <td>A</td>\n",
       "      <td>New York</td>\n",
       "      <td>3.5</td>\n",
       "    </tr>\n",
       "    <tr>\n",
       "      <th>1</th>\n",
       "      <td>Ali</td>\n",
       "      <td>21</td>\n",
       "      <td>B</td>\n",
       "      <td>Los Angeles</td>\n",
       "      <td>3.0</td>\n",
       "    </tr>\n",
       "    <tr>\n",
       "      <th>2</th>\n",
       "      <td>Charlie</td>\n",
       "      <td>22</td>\n",
       "      <td>C</td>\n",
       "      <td>Chicago</td>\n",
       "      <td>2.5</td>\n",
       "    </tr>\n",
       "    <tr>\n",
       "      <th>3</th>\n",
       "      <td>David</td>\n",
       "      <td>23</td>\n",
       "      <td>D</td>\n",
       "      <td>Houston</td>\n",
       "      <td>2.0</td>\n",
       "    </tr>\n",
       "    <tr>\n",
       "      <th>4</th>\n",
       "      <td>laiba</td>\n",
       "      <td>20</td>\n",
       "      <td>A</td>\n",
       "      <td>Krachi</td>\n",
       "      <td>3.8</td>\n",
       "    </tr>\n",
       "  </tbody>\n",
       "</table>\n",
       "</div>"
      ],
      "text/plain": [
       "      Name Age Grade         City  GPA\n",
       "0     Nomi  20     A     New York  3.5\n",
       "1      Ali  21     B  Los Angeles  3.0\n",
       "2  Charlie  22     C      Chicago  2.5\n",
       "3    David  23     D      Houston  2.0\n",
       "4    laiba  20     A       Krachi  3.8"
      ]
     },
     "execution_count": 42,
     "metadata": {},
     "output_type": "execute_result"
    }
   ],
   "source": [
    "students_data"
   ]
  },
  {
   "cell_type": "code",
   "execution_count": 43,
   "id": "a6423987",
   "metadata": {},
   "outputs": [],
   "source": [
    "students_data = students_data.drop(4, axis=0)"
   ]
  },
  {
   "cell_type": "code",
   "execution_count": 44,
   "id": "a070308b",
   "metadata": {},
   "outputs": [
    {
     "data": {
      "text/html": [
       "<div>\n",
       "<style scoped>\n",
       "    .dataframe tbody tr th:only-of-type {\n",
       "        vertical-align: middle;\n",
       "    }\n",
       "\n",
       "    .dataframe tbody tr th {\n",
       "        vertical-align: top;\n",
       "    }\n",
       "\n",
       "    .dataframe thead th {\n",
       "        text-align: right;\n",
       "    }\n",
       "</style>\n",
       "<table border=\"1\" class=\"dataframe\">\n",
       "  <thead>\n",
       "    <tr style=\"text-align: right;\">\n",
       "      <th></th>\n",
       "      <th>Name</th>\n",
       "      <th>Age</th>\n",
       "      <th>Grade</th>\n",
       "      <th>City</th>\n",
       "      <th>GPA</th>\n",
       "    </tr>\n",
       "  </thead>\n",
       "  <tbody>\n",
       "    <tr>\n",
       "      <th>0</th>\n",
       "      <td>Nomi</td>\n",
       "      <td>20</td>\n",
       "      <td>A</td>\n",
       "      <td>New York</td>\n",
       "      <td>3.5</td>\n",
       "    </tr>\n",
       "    <tr>\n",
       "      <th>1</th>\n",
       "      <td>Ali</td>\n",
       "      <td>21</td>\n",
       "      <td>B</td>\n",
       "      <td>Los Angeles</td>\n",
       "      <td>3.0</td>\n",
       "    </tr>\n",
       "    <tr>\n",
       "      <th>2</th>\n",
       "      <td>Charlie</td>\n",
       "      <td>22</td>\n",
       "      <td>C</td>\n",
       "      <td>Chicago</td>\n",
       "      <td>2.5</td>\n",
       "    </tr>\n",
       "    <tr>\n",
       "      <th>3</th>\n",
       "      <td>David</td>\n",
       "      <td>23</td>\n",
       "      <td>D</td>\n",
       "      <td>Houston</td>\n",
       "      <td>2.0</td>\n",
       "    </tr>\n",
       "  </tbody>\n",
       "</table>\n",
       "</div>"
      ],
      "text/plain": [
       "      Name Age Grade         City  GPA\n",
       "0     Nomi  20     A     New York  3.5\n",
       "1      Ali  21     B  Los Angeles  3.0\n",
       "2  Charlie  22     C      Chicago  2.5\n",
       "3    David  23     D      Houston  2.0"
      ]
     },
     "execution_count": 44,
     "metadata": {},
     "output_type": "execute_result"
    }
   ],
   "source": [
    "students_data"
   ]
  },
  {
   "cell_type": "code",
   "execution_count": 45,
   "id": "bafc11bf",
   "metadata": {},
   "outputs": [
    {
     "data": {
      "text/html": [
       "<div>\n",
       "<style scoped>\n",
       "    .dataframe tbody tr th:only-of-type {\n",
       "        vertical-align: middle;\n",
       "    }\n",
       "\n",
       "    .dataframe tbody tr th {\n",
       "        vertical-align: top;\n",
       "    }\n",
       "\n",
       "    .dataframe thead th {\n",
       "        text-align: right;\n",
       "    }\n",
       "</style>\n",
       "<table border=\"1\" class=\"dataframe\">\n",
       "  <thead>\n",
       "    <tr style=\"text-align: right;\">\n",
       "      <th></th>\n",
       "      <th>Name</th>\n",
       "      <th>Age</th>\n",
       "      <th>Grade</th>\n",
       "      <th>City</th>\n",
       "      <th>GPA</th>\n",
       "    </tr>\n",
       "  </thead>\n",
       "  <tbody>\n",
       "    <tr>\n",
       "      <th>0</th>\n",
       "      <td>Nomi</td>\n",
       "      <td>20</td>\n",
       "      <td>A</td>\n",
       "      <td>New York</td>\n",
       "      <td>3.5</td>\n",
       "    </tr>\n",
       "    <tr>\n",
       "      <th>1</th>\n",
       "      <td>Ali</td>\n",
       "      <td>21</td>\n",
       "      <td>B</td>\n",
       "      <td>Los Angeles</td>\n",
       "      <td>3.0</td>\n",
       "    </tr>\n",
       "    <tr>\n",
       "      <th>2</th>\n",
       "      <td>Charlie</td>\n",
       "      <td>22</td>\n",
       "      <td>C</td>\n",
       "      <td>Chicago</td>\n",
       "      <td>2.5</td>\n",
       "    </tr>\n",
       "    <tr>\n",
       "      <th>3</th>\n",
       "      <td>David</td>\n",
       "      <td>23</td>\n",
       "      <td>D</td>\n",
       "      <td>Houston</td>\n",
       "      <td>2.0</td>\n",
       "    </tr>\n",
       "  </tbody>\n",
       "</table>\n",
       "</div>"
      ],
      "text/plain": [
       "      Name Age Grade         City  GPA\n",
       "0     Nomi  20     A     New York  3.5\n",
       "1      Ali  21     B  Los Angeles  3.0\n",
       "2  Charlie  22     C      Chicago  2.5\n",
       "3    David  23     D      Houston  2.0"
      ]
     },
     "execution_count": 45,
     "metadata": {},
     "output_type": "execute_result"
    }
   ],
   "source": [
    "students_data.dropna()"
   ]
  },
  {
   "cell_type": "code",
   "execution_count": 47,
   "id": "e20a86c3",
   "metadata": {},
   "outputs": [
    {
     "name": "stderr",
     "output_type": "stream",
     "text": [
      "C:\\Users\\Noman's PC\\AppData\\Local\\Temp\\ipykernel_8308\\1907071124.py:1: FutureWarning: Downcasting object dtype arrays on .fillna, .ffill, .bfill is deprecated and will change in a future version. Call result.infer_objects(copy=False) instead. To opt-in to the future behavior, set `pd.set_option('future.no_silent_downcasting', True)`\n",
      "  students_data.fillna(12)\n"
     ]
    },
    {
     "data": {
      "text/html": [
       "<div>\n",
       "<style scoped>\n",
       "    .dataframe tbody tr th:only-of-type {\n",
       "        vertical-align: middle;\n",
       "    }\n",
       "\n",
       "    .dataframe tbody tr th {\n",
       "        vertical-align: top;\n",
       "    }\n",
       "\n",
       "    .dataframe thead th {\n",
       "        text-align: right;\n",
       "    }\n",
       "</style>\n",
       "<table border=\"1\" class=\"dataframe\">\n",
       "  <thead>\n",
       "    <tr style=\"text-align: right;\">\n",
       "      <th></th>\n",
       "      <th>Name</th>\n",
       "      <th>Age</th>\n",
       "      <th>Grade</th>\n",
       "      <th>City</th>\n",
       "      <th>GPA</th>\n",
       "    </tr>\n",
       "  </thead>\n",
       "  <tbody>\n",
       "    <tr>\n",
       "      <th>0</th>\n",
       "      <td>Nomi</td>\n",
       "      <td>20</td>\n",
       "      <td>A</td>\n",
       "      <td>New York</td>\n",
       "      <td>3.5</td>\n",
       "    </tr>\n",
       "    <tr>\n",
       "      <th>1</th>\n",
       "      <td>Ali</td>\n",
       "      <td>21</td>\n",
       "      <td>B</td>\n",
       "      <td>Los Angeles</td>\n",
       "      <td>3.0</td>\n",
       "    </tr>\n",
       "    <tr>\n",
       "      <th>2</th>\n",
       "      <td>Charlie</td>\n",
       "      <td>22</td>\n",
       "      <td>C</td>\n",
       "      <td>Chicago</td>\n",
       "      <td>2.5</td>\n",
       "    </tr>\n",
       "    <tr>\n",
       "      <th>3</th>\n",
       "      <td>David</td>\n",
       "      <td>23</td>\n",
       "      <td>D</td>\n",
       "      <td>Houston</td>\n",
       "      <td>2.0</td>\n",
       "    </tr>\n",
       "  </tbody>\n",
       "</table>\n",
       "</div>"
      ],
      "text/plain": [
       "      Name  Age Grade         City  GPA\n",
       "0     Nomi   20     A     New York  3.5\n",
       "1      Ali   21     B  Los Angeles  3.0\n",
       "2  Charlie   22     C      Chicago  2.5\n",
       "3    David   23     D      Houston  2.0"
      ]
     },
     "execution_count": 47,
     "metadata": {},
     "output_type": "execute_result"
    }
   ],
   "source": [
    "students_data.fillna(12)"
   ]
  },
  {
   "cell_type": "code",
   "execution_count": 56,
   "id": "3bdd3739",
   "metadata": {},
   "outputs": [
    {
     "data": {
      "text/plain": [
       "23.0"
      ]
     },
     "execution_count": 56,
     "metadata": {},
     "output_type": "execute_result"
    }
   ],
   "source": [
    "students_data[\"Age\"].quantile(1)"
   ]
  },
  {
   "cell_type": "code",
   "execution_count": 58,
   "id": "401a75bd",
   "metadata": {},
   "outputs": [],
   "source": [
    "import pandas as pd\n",
    "students_data1 = pd.DataFrame()"
   ]
  },
  {
   "cell_type": "code",
   "execution_count": 59,
   "id": "26f6dfee",
   "metadata": {},
   "outputs": [],
   "source": [
    "students_data1[\"Name\"] = [\"Nomi\", \"Ali\", \"Charlie\", \"David\"]\n",
    "students_data1[\"Age\"] = [20, 21, 22, 23]"
   ]
  },
  {
   "cell_type": "code",
   "execution_count": 63,
   "id": "fe39e2a0",
   "metadata": {},
   "outputs": [
    {
     "data": {
      "text/html": [
       "<div>\n",
       "<style scoped>\n",
       "    .dataframe tbody tr th:only-of-type {\n",
       "        vertical-align: middle;\n",
       "    }\n",
       "\n",
       "    .dataframe tbody tr th {\n",
       "        vertical-align: top;\n",
       "    }\n",
       "\n",
       "    .dataframe thead th {\n",
       "        text-align: right;\n",
       "    }\n",
       "</style>\n",
       "<table border=\"1\" class=\"dataframe\">\n",
       "  <thead>\n",
       "    <tr style=\"text-align: right;\">\n",
       "      <th></th>\n",
       "      <th>Name</th>\n",
       "      <th>Age</th>\n",
       "    </tr>\n",
       "  </thead>\n",
       "  <tbody>\n",
       "    <tr>\n",
       "      <th>0</th>\n",
       "      <td>Nomi</td>\n",
       "      <td>20</td>\n",
       "    </tr>\n",
       "    <tr>\n",
       "      <th>1</th>\n",
       "      <td>Ali</td>\n",
       "      <td>21</td>\n",
       "    </tr>\n",
       "    <tr>\n",
       "      <th>2</th>\n",
       "      <td>Charlie</td>\n",
       "      <td>22</td>\n",
       "    </tr>\n",
       "    <tr>\n",
       "      <th>3</th>\n",
       "      <td>David</td>\n",
       "      <td>23</td>\n",
       "    </tr>\n",
       "  </tbody>\n",
       "</table>\n",
       "</div>"
      ],
      "text/plain": [
       "      Name  Age\n",
       "0     Nomi   20\n",
       "1      Ali   21\n",
       "2  Charlie   22\n",
       "3    David   23"
      ]
     },
     "execution_count": 63,
     "metadata": {},
     "output_type": "execute_result"
    }
   ],
   "source": [
    "students_data1"
   ]
  },
  {
   "cell_type": "code",
   "execution_count": null,
   "id": "e4c7ad27",
   "metadata": {},
   "outputs": [],
   "source": []
  }
 ],
 "metadata": {
  "kernelspec": {
   "display_name": "ml_env",
   "language": "python",
   "name": "python3"
  },
  "language_info": {
   "codemirror_mode": {
    "name": "ipython",
    "version": 3
   },
   "file_extension": ".py",
   "mimetype": "text/x-python",
   "name": "python",
   "nbconvert_exporter": "python",
   "pygments_lexer": "ipython3",
   "version": "3.13.3"
  }
 },
 "nbformat": 4,
 "nbformat_minor": 5
}
